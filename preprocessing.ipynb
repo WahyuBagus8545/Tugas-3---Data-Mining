{
  "nbformat": 4,
  "nbformat_minor": 0,
  "metadata": {
    "colab": {
      "provenance": []
    },
    "kernelspec": {
      "name": "python3",
      "display_name": "Python 3"
    },
    "language_info": {
      "name": "python"
    }
  },
  "cells": [
    {
      "cell_type": "code",
      "execution_count": 2,
      "metadata": {
        "id": "QuymU8p7tD01"
      },
      "outputs": [],
      "source": [
        "import numpy as np\n",
        "import matplotlib.pyplot as plt\n",
        "import pandas as pd"
      ]
    },
    {
      "cell_type": "code",
      "source": [
        "dataset=pd.read_csv('Data.csv')\n",
        "x = dataset.iloc[:, :-1].values\n",
        "y = dataset.iloc[:, -1].values"
      ],
      "metadata": {
        "id": "Pj9Ay9G943UK"
      },
      "execution_count": 10,
      "outputs": []
    },
    {
      "cell_type": "code",
      "source": [
        "print(x)"
      ],
      "metadata": {
        "colab": {
          "base_uri": "https://localhost:8080/"
        },
        "id": "BOSd-KTK8PY9",
        "outputId": "04da0465-d1d1-4456-f660-5a0a780d34e4"
      },
      "execution_count": 11,
      "outputs": [
        {
          "output_type": "stream",
          "name": "stdout",
          "text": [
            "[['France' 53.0 27471.0]\n",
            " ['Spain' 39.0 79572.0]\n",
            " ['Germany' 39.0 56717.0]\n",
            " ['Spain' 48.0 42489.0]\n",
            " ['Germany' 54.0 nan]\n",
            " ['France' 46.0 27331.0]\n",
            " ['Spain' nan 21653.0]\n",
            " ['France' 40.0 84874.0]\n",
            " ['Germany' 51.0 60289.0]\n",
            " ['France' 39.0 37432.0]]\n"
          ]
        }
      ]
    },
    {
      "cell_type": "code",
      "source": [
        "print(y)"
      ],
      "metadata": {
        "colab": {
          "base_uri": "https://localhost:8080/"
        },
        "id": "VfWAS5fN8Tyt",
        "outputId": "d02a6c2c-dd07-4e92-b2a1-3573eca81812"
      },
      "execution_count": 12,
      "outputs": [
        {
          "output_type": "stream",
          "name": "stdout",
          "text": [
            "['Yes' 'No' 'No' 'No' 'Yes' 'Yes' 'No' 'Yes' 'Yes' 'Yes']\n"
          ]
        }
      ]
    },
    {
      "cell_type": "code",
      "source": [
        "from sklearn.impute import SimpleImputer\n",
        "imputer = SimpleImputer(missing_values=np.nan, strategy='mean')\n",
        "imputer.fit(x[:, 1:3])\n",
        "x[:, 1:3]= imputer.transform(x[:,1:3])"
      ],
      "metadata": {
        "id": "EvDalpcdLX7L"
      },
      "execution_count": 17,
      "outputs": []
    },
    {
      "cell_type": "code",
      "source": [
        "print(x)"
      ],
      "metadata": {
        "colab": {
          "base_uri": "https://localhost:8080/"
        },
        "id": "KK59V9u7LZxI",
        "outputId": "9e5d72ad-057c-40cd-e754-fa6ba4632f25"
      },
      "execution_count": 18,
      "outputs": [
        {
          "output_type": "stream",
          "name": "stdout",
          "text": [
            "[['France' 53.0 27471.0]\n",
            " ['Spain' 39.0 79572.0]\n",
            " ['Germany' 39.0 56717.0]\n",
            " ['Spain' 48.0 42489.0]\n",
            " ['Germany' 54.0 48647.555555555555]\n",
            " ['France' 46.0 27331.0]\n",
            " ['Spain' 45.44444444444444 21653.0]\n",
            " ['France' 40.0 84874.0]\n",
            " ['Germany' 51.0 60289.0]\n",
            " ['France' 39.0 37432.0]]\n"
          ]
        }
      ]
    },
    {
      "cell_type": "code",
      "source": [
        "from sklearn.compose import ColumnTransformer\n",
        "from sklearn.preprocessing import OneHotEncoder\n",
        "ct = ColumnTransformer(transformers=[('encoder', OneHotEncoder(),[0])],remainder='passthrough')\n",
        "x = np.array(ct.fit_transform(x))"
      ],
      "metadata": {
        "id": "cTeWLOxh8eg9"
      },
      "execution_count": 20,
      "outputs": []
    },
    {
      "cell_type": "code",
      "source": [
        "print(x)"
      ],
      "metadata": {
        "id": "ql-RSXZS8m_3",
        "colab": {
          "base_uri": "https://localhost:8080/"
        },
        "outputId": "b0580ae5-b7c1-4485-fef3-3650f605ac03"
      },
      "execution_count": 21,
      "outputs": [
        {
          "output_type": "stream",
          "name": "stdout",
          "text": [
            "[[1.0 0.0 0.0 53.0 27471.0]\n",
            " [0.0 0.0 1.0 39.0 79572.0]\n",
            " [0.0 1.0 0.0 39.0 56717.0]\n",
            " [0.0 0.0 1.0 48.0 42489.0]\n",
            " [0.0 1.0 0.0 54.0 48647.555555555555]\n",
            " [1.0 0.0 0.0 46.0 27331.0]\n",
            " [0.0 0.0 1.0 45.44444444444444 21653.0]\n",
            " [1.0 0.0 0.0 40.0 84874.0]\n",
            " [0.0 1.0 0.0 51.0 60289.0]\n",
            " [1.0 0.0 0.0 39.0 37432.0]]\n"
          ]
        }
      ]
    },
    {
      "cell_type": "code",
      "source": [
        "from sklearn.preprocessing import LabelEncoder\n",
        "le = LabelEncoder()\n",
        "y = le.fit_transform(y)"
      ],
      "metadata": {
        "id": "Wx7_SKTv-E3b"
      },
      "execution_count": 22,
      "outputs": []
    },
    {
      "cell_type": "code",
      "source": [
        "print(y)"
      ],
      "metadata": {
        "id": "uUyr23rZ-J8K",
        "colab": {
          "base_uri": "https://localhost:8080/"
        },
        "outputId": "3fc61f1d-bcac-4f3b-f5f2-03d1c4e77d44"
      },
      "execution_count": 23,
      "outputs": [
        {
          "output_type": "stream",
          "name": "stdout",
          "text": [
            "[1 0 0 0 1 1 0 1 1 1]\n"
          ]
        }
      ]
    },
    {
      "cell_type": "code",
      "source": [
        "from sklearn.model_selection import train_test_split\n",
        "x_train,x_test,y_train,y_test = train_test_split(x,y,test_size=0.2,random_state=1)"
      ],
      "metadata": {
        "id": "9E6r9Mk_-XiD"
      },
      "execution_count": 24,
      "outputs": []
    },
    {
      "cell_type": "code",
      "source": [
        "print(x_train)"
      ],
      "metadata": {
        "colab": {
          "base_uri": "https://localhost:8080/"
        },
        "id": "nDV04cYC-cEx",
        "outputId": "8d0f805f-f39b-440d-c4fa-9810d42e61b9"
      },
      "execution_count": 25,
      "outputs": [
        {
          "output_type": "stream",
          "name": "stdout",
          "text": [
            "[[0.0 0.0 1.0 45.44444444444444 21653.0]\n",
            " [0.0 1.0 0.0 54.0 48647.555555555555]\n",
            " [1.0 0.0 0.0 53.0 27471.0]\n",
            " [0.0 0.0 1.0 48.0 42489.0]\n",
            " [0.0 0.0 1.0 39.0 79572.0]\n",
            " [1.0 0.0 0.0 40.0 84874.0]\n",
            " [0.0 1.0 0.0 51.0 60289.0]\n",
            " [1.0 0.0 0.0 46.0 27331.0]]\n"
          ]
        }
      ]
    },
    {
      "cell_type": "code",
      "source": [
        "print(x_test)"
      ],
      "metadata": {
        "colab": {
          "base_uri": "https://localhost:8080/"
        },
        "id": "mSlOluaaLh1Z",
        "outputId": "64eecd66-ccc6-4a60-fc23-43dc4ed25279"
      },
      "execution_count": 26,
      "outputs": [
        {
          "output_type": "stream",
          "name": "stdout",
          "text": [
            "[[0.0 1.0 0.0 39.0 56717.0]\n",
            " [1.0 0.0 0.0 39.0 37432.0]]\n"
          ]
        }
      ]
    },
    {
      "cell_type": "code",
      "source": [
        "print(y_train)"
      ],
      "metadata": {
        "colab": {
          "base_uri": "https://localhost:8080/"
        },
        "id": "h-0IgqJr58AV",
        "outputId": "c05ba668-315d-4cd2-ab2c-ca9d29a641cc"
      },
      "execution_count": 27,
      "outputs": [
        {
          "output_type": "stream",
          "name": "stdout",
          "text": [
            "[0 1 1 0 0 1 1 1]\n"
          ]
        }
      ]
    },
    {
      "cell_type": "code",
      "source": [
        "print(y_test)"
      ],
      "metadata": {
        "colab": {
          "base_uri": "https://localhost:8080/"
        },
        "id": "UR2b8oeh5-sk",
        "outputId": "9dfe4fad-599f-4829-fd26-ea24b219a481"
      },
      "execution_count": 28,
      "outputs": [
        {
          "output_type": "stream",
          "name": "stdout",
          "text": [
            "[0 1]\n"
          ]
        }
      ]
    },
    {
      "cell_type": "code",
      "source": [
        "from sklearn.preprocessing import StandardScaler\n",
        "sc = StandardScaler()\n",
        "x_train[:,3:]=sc.fit_transform(x_train[:,3:])\n",
        "x_test[:,3:]=sc.transform(x_test[:,3:])"
      ],
      "metadata": {
        "id": "uXZ-hrmy6GMY"
      },
      "execution_count": 30,
      "outputs": []
    },
    {
      "cell_type": "code",
      "source": [
        "print(x_train)"
      ],
      "metadata": {
        "colab": {
          "base_uri": "https://localhost:8080/"
        },
        "id": "OdhOlZ407XWH",
        "outputId": "e5cc1ab8-dd55-4a7d-bcc4-804e2347f7a2"
      },
      "execution_count": 31,
      "outputs": [
        {
          "output_type": "stream",
          "name": "stdout",
          "text": [
            "[[0.0 0.0 1.0 -0.3083536398570883 -1.2138784114142207]\n",
            " [0.0 1.0 0.0 1.3291105166253796 -0.017430177151538735]\n",
            " [1.0 0.0 0.0 1.137718602231325 -0.9560139760241109]\n",
            " [0.0 0.0 1.0 0.18075903026105167 -0.29038865964585925]\n",
            " [0.0 0.0 1.0 -1.5417681992854404 1.3531979435805828]\n",
            " [1.0 0.0 0.0 -1.3503762848913854 1.5881923121674444]\n",
            " [0.0 1.0 0.0 0.7549347734432157 0.4985400013964153]\n",
            " [1.0 0.0 0.0 -0.20202479852705765 -0.962219032908713]]\n"
          ]
        }
      ]
    },
    {
      "cell_type": "code",
      "source": [
        "print(x_test)"
      ],
      "metadata": {
        "colab": {
          "base_uri": "https://localhost:8080/"
        },
        "id": "p08YSbkt7aFo",
        "outputId": "30b8ab7c-070e-4e47-c3f0-2d8dc5c4bc01"
      },
      "execution_count": 32,
      "outputs": [
        {
          "output_type": "stream",
          "name": "stdout",
          "text": [
            "[[0.0 1.0 0.0 39.00000000000001 56717.00000000001]\n",
            " [1.0 0.0 0.0 39.00000000000001 37432.00000000001]]\n"
          ]
        }
      ]
    }
  ]
}